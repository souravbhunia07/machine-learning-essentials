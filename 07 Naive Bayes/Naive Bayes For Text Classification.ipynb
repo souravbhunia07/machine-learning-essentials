{
 "cells": [
  {
   "cell_type": "markdown",
   "id": "b742be27",
   "metadata": {},
   "source": [
    "# Naive Bayes Classifier for Text Data\n",
    "\n",
    "<img src=\"https://media.giphy.com/media/dQpUkK59l5Imxsh8jN/giphy.gif\" width=300 > "
   ]
  },
  {
   "cell_type": "markdown",
   "id": "0df6d2a8",
   "metadata": {},
   "source": [
    "#### Multinomial Naive Bayes\n",
    "- Important is to compute the likelihood \n",
    "\n",
    "$$P(x_i|Y_i = c) = \\frac {count(x_i, Y_i = c)} {\\sum_{w \\in V}{count(w, Y_i=c)}} $$\n"
   ]
  },
  {
   "cell_type": "code",
   "execution_count": null,
   "id": "2e1977b2",
   "metadata": {},
   "outputs": [],
   "source": []
  },
  {
   "cell_type": "code",
   "execution_count": null,
   "id": "bc032f5a",
   "metadata": {},
   "outputs": [],
   "source": []
  },
  {
   "cell_type": "markdown",
   "id": "4bdc9be2",
   "metadata": {},
   "source": [
    "# Laplace Smoothing"
   ]
  },
  {
   "cell_type": "markdown",
   "id": "187a8d0f",
   "metadata": {},
   "source": [
    "<img src=\"https://media.giphy.com/media/SqmkZ5IdwzTP2/giphy.gif\" width=300 align=left>"
   ]
  },
  {
   "cell_type": "code",
   "execution_count": null,
   "id": "c08e3ef6",
   "metadata": {},
   "outputs": [],
   "source": []
  },
  {
   "cell_type": "code",
   "execution_count": null,
   "id": "c181211a",
   "metadata": {},
   "outputs": [],
   "source": []
  },
  {
   "cell_type": "markdown",
   "id": "ce330c2d",
   "metadata": {},
   "source": [
    "$$P(x_i|Y_i = c) = \\frac {count(x_i, Y_i = c) + \\alpha} {\\sum_{w \\in V}{count(w, Y_i=c)} + \\alpha |V|} $$"
   ]
  },
  {
   "cell_type": "code",
   "execution_count": null,
   "id": "2065f18a",
   "metadata": {},
   "outputs": [],
   "source": []
  },
  {
   "cell_type": "code",
   "execution_count": null,
   "id": "c755295b",
   "metadata": {},
   "outputs": [],
   "source": []
  },
  {
   "cell_type": "markdown",
   "id": "ad0fe83b",
   "metadata": {},
   "source": [
    "# A Practical Example of Multinomial Naive Bayes"
   ]
  },
  {
   "cell_type": "markdown",
   "id": "8c0ad33f",
   "metadata": {},
   "source": [
    "<table align=left>\n",
    "    <tr style=\"font-weight:bold;\">\n",
    "        <td></td>\n",
    "        <td>docID</td>\n",
    "        <td>words in document</td>\n",
    "        <td>c = China?</td>\n",
    "    </tr> \n",
    "    <tr>\n",
    "        <td  rowspan=4> training set </td>\n",
    "        <td> 1 </td>\n",
    "        <td> Chinese Beijing Chinese </td>\n",
    "        <td> yes </td>\n",
    "    </tr>\n",
    "    <tr>\n",
    "        <td> 2 </td>\n",
    "        <td> Chinese Chinese Shanghai </td>\n",
    "        <td> yes </td>\n",
    "    </tr>\n",
    "    <tr>\n",
    "        <td> 3 </td>\n",
    "        <td> Chinese Macao </td>\n",
    "        <td> yes </td>\n",
    "    </tr>\n",
    "    <tr>\n",
    "        <td> 4 </td>\n",
    "        <td> Tokyo Japan Chinese </td>\n",
    "        <td> no </td>\n",
    "    </tr>\n",
    "    <tr>\n",
    "        <td> test set </td>\n",
    "        <td> 5 </td>\n",
    "        <td> Chinese Chinese Chinese Tokyo Japan </td>\n",
    "        <td> ? </td>\n",
    "    </tr>\n",
    "</table>"
   ]
  },
  {
   "cell_type": "code",
   "execution_count": null,
   "id": "71f0b1eb",
   "metadata": {},
   "outputs": [],
   "source": []
  },
  {
   "cell_type": "code",
   "execution_count": null,
   "id": "7c419b85",
   "metadata": {},
   "outputs": [],
   "source": []
  },
  {
   "cell_type": "code",
   "execution_count": null,
   "id": "2226f872",
   "metadata": {},
   "outputs": [],
   "source": []
  },
  {
   "cell_type": "markdown",
   "id": "5a68e1bd",
   "metadata": {},
   "source": [
    "# Bernoulli Naive Bayes\n",
    "\n",
    "<img src=\"https://media.giphy.com/media/xTiN0h0Kh5gH7yQYUw/giphy.gif\" width=300 align=right>\n",
    "<br><br>\n",
    "\n",
    "1. Bernoulli doesn't talk about the frequency of a feature/word.\n",
    "1. It is only concerned about whether a word is present or not (1 or 0)."
   ]
  },
  {
   "cell_type": "markdown",
   "id": "f75c721d",
   "metadata": {},
   "source": [
    "**Likelihood :**"
   ]
  },
  {
   "cell_type": "markdown",
   "id": "31cc7a35",
   "metadata": {},
   "source": [
    "$$P(x_i|Y_i = c) = \\frac {count(d_i \\; contains \\; x_i, Y_i = c) + \\alpha} {{count(Y_i=c)} + 2.\\alpha \\, } $$"
   ]
  },
  {
   "cell_type": "markdown",
   "id": "692c078a",
   "metadata": {},
   "source": [
    "**Prediction:**"
   ]
  },
  {
   "cell_type": "markdown",
   "id": "4afee9a0",
   "metadata": {},
   "source": [
    "$$P(Y=1|X) = \\prod_{i=1}^{|V|} { P(x_i|Y=1)^b . \\big(1 - P(x_i|Y=spam)\\big)^{1-b}} * P(Y=1)$$"
   ]
  },
  {
   "cell_type": "code",
   "execution_count": null,
   "id": "80f60524",
   "metadata": {},
   "outputs": [],
   "source": []
  },
  {
   "cell_type": "code",
   "execution_count": null,
   "id": "b1f01fce",
   "metadata": {},
   "outputs": [],
   "source": []
  },
  {
   "cell_type": "markdown",
   "id": "45b21dcc",
   "metadata": {},
   "source": [
    "## Example of Bernoulli Naive Bayes"
   ]
  },
  {
   "cell_type": "markdown",
   "id": "afb80f67",
   "metadata": {},
   "source": [
    "<table align=left>\n",
    "    <tr style=\"font-weight:bold;\">\n",
    "        <td></td>\n",
    "        <td>docID</td>\n",
    "        <td>words in document</td>\n",
    "        <td>c = China?</td>\n",
    "    </tr> \n",
    "    <tr>\n",
    "        <td  rowspan=4> training set </td>\n",
    "        <td> 1 </td>\n",
    "        <td> Chinese Beijing Chinese </td>\n",
    "        <td> yes </td>\n",
    "    </tr>\n",
    "    <tr>\n",
    "        <td> 2 </td>\n",
    "        <td> Chinese Chinese Shanghai </td>\n",
    "        <td> yes </td>\n",
    "    </tr>\n",
    "    <tr>\n",
    "        <td> 3 </td>\n",
    "        <td> Chinese Macao </td>\n",
    "        <td> yes </td>\n",
    "    </tr>\n",
    "    <tr>\n",
    "        <td> 4 </td>\n",
    "        <td> Tokyo Japan Chinese </td>\n",
    "        <td> no </td>\n",
    "    </tr>\n",
    "    <tr>\n",
    "        <td> test set </td>\n",
    "        <td> 5 </td>\n",
    "        <td> Chinese Chinese Chinese Tokyo Japan </td>\n",
    "        <td> ? </td>\n",
    "    </tr>\n",
    "</table>"
   ]
  },
  {
   "cell_type": "code",
   "execution_count": null,
   "id": "fb283260",
   "metadata": {},
   "outputs": [],
   "source": []
  },
  {
   "cell_type": "code",
   "execution_count": null,
   "id": "17186f98",
   "metadata": {},
   "outputs": [],
   "source": []
  },
  {
   "cell_type": "code",
   "execution_count": null,
   "id": "5bd8ea93",
   "metadata": {},
   "outputs": [],
   "source": []
  },
  {
   "cell_type": "code",
   "execution_count": null,
   "id": "13d133ef",
   "metadata": {},
   "outputs": [],
   "source": []
  },
  {
   "cell_type": "markdown",
   "id": "5c334eda",
   "metadata": {},
   "source": [
    "# Bias Variance Tradeoff   <img src=\"imgs/alpha.png\" width=100 >"
   ]
  },
  {
   "cell_type": "code",
   "execution_count": null,
   "id": "030837bf",
   "metadata": {},
   "outputs": [],
   "source": []
  },
  {
   "cell_type": "code",
   "execution_count": null,
   "id": "ca46205a",
   "metadata": {},
   "outputs": [],
   "source": []
  },
  {
   "cell_type": "code",
   "execution_count": null,
   "id": "3b3cfcd7",
   "metadata": {},
   "outputs": [],
   "source": []
  },
  {
   "cell_type": "markdown",
   "id": "25edd7cf",
   "metadata": {},
   "source": [
    "# Gaussian Naive Bayes\n",
    "<img src=\"imgs/gaussian.png\" width=500>"
   ]
  },
  {
   "cell_type": "code",
   "execution_count": null,
   "id": "1414e781",
   "metadata": {},
   "outputs": [],
   "source": []
  },
  {
   "cell_type": "code",
   "execution_count": null,
   "id": "32ab6ad1",
   "metadata": {},
   "outputs": [],
   "source": []
  },
  {
   "cell_type": "markdown",
   "id": "26944990",
   "metadata": {},
   "source": [
    "# Scikit Learn code for Naive Bayes"
   ]
  },
  {
   "cell_type": "code",
   "execution_count": 5,
   "id": "99b564b7",
   "metadata": {},
   "outputs": [],
   "source": [
    "from sklearn.datasets import load_digits\n",
    "import matplotlib.pyplot as plt"
   ]
  },
  {
   "cell_type": "code",
   "execution_count": 2,
   "id": "9c9a8f98",
   "metadata": {},
   "outputs": [],
   "source": [
    "digits = load_digits()"
   ]
  },
  {
   "cell_type": "code",
   "execution_count": 4,
   "id": "5e687e3e",
   "metadata": {},
   "outputs": [],
   "source": [
    "X = digits.data\n",
    "y = digits.target"
   ]
  },
  {
   "cell_type": "code",
   "execution_count": 6,
   "id": "67018a91",
   "metadata": {},
   "outputs": [
    {
     "data": {
      "text/plain": [
       "(1797, 64)"
      ]
     },
     "execution_count": 6,
     "metadata": {},
     "output_type": "execute_result"
    }
   ],
   "source": [
    "X.shape"
   ]
  },
  {
   "cell_type": "code",
   "execution_count": 7,
   "id": "6cd49e35",
   "metadata": {},
   "outputs": [
    {
     "data": {
      "text/plain": [
       "(1797,)"
      ]
     },
     "execution_count": 7,
     "metadata": {},
     "output_type": "execute_result"
    }
   ],
   "source": [
    "y.shape"
   ]
  },
  {
   "cell_type": "code",
   "execution_count": 12,
   "id": "8591ce65",
   "metadata": {},
   "outputs": [
    {
     "data": {
      "text/plain": [
       "<matplotlib.image.AxesImage at 0x7fc95861da60>"
      ]
     },
     "execution_count": 12,
     "metadata": {},
     "output_type": "execute_result"
    },
    {
     "data": {
      "image/png": "[encoded data removed]",
      "text/plain": [
       "<Figure size 432x288 with 1 Axes>"
      ]
     },
     "metadata": {
      "needs_background": "light"
     },
     "output_type": "display_data"
    }
   ],
   "source": [
    "plt.imshow(X[15].reshape(8,8), cmap=\"gray\")"
   ]
  },
  {
   "cell_type": "code",
   "execution_count": 13,
   "id": "b9bf9de7",
   "metadata": {},
   "outputs": [],
   "source": [
    "from sklearn.model_selection import train_test_split"
   ]
  },
  {
   "cell_type": "code",
   "execution_count": 14,
   "id": "5a19f993",
   "metadata": {},
   "outputs": [],
   "source": [
    "X_train, X_test, y_train, y_test = train_test_split(X, y, test_size=0.2, random_state=42)"
   ]
  },
  {
   "cell_type": "code",
   "execution_count": 15,
   "id": "7355a199",
   "metadata": {},
   "outputs": [],
   "source": [
    "from sklearn.naive_bayes import MultinomialNB, BernoulliNB, GaussianNB"
   ]
  },
  {
   "cell_type": "code",
   "execution_count": 16,
   "id": "1bca7e97",
   "metadata": {},
   "outputs": [],
   "source": [
    "mnb = MultinomialNB()\n",
    "bnb = BernoulliNB()\n",
    "gnb = GaussianNB()"
   ]
  },
  {
   "cell_type": "code",
   "execution_count": 17,
   "id": "c6bb7ea0",
   "metadata": {},
   "outputs": [
    {
     "data": {
      "text/plain": [
       "GaussianNB()"
      ]
     },
     "execution_count": 17,
     "metadata": {},
     "output_type": "execute_result"
    }
   ],
   "source": [
    "mnb.fit(X_train, y_train)\n",
    "bnb.fit(X_train, y_train)\n",
    "gnb.fit(X_train, y_train)"
   ]
  },
  {
   "cell_type": "code",
   "execution_count": 18,
   "id": "bd695746",
   "metadata": {},
   "outputs": [
    {
     "data": {
      "text/plain": [
       "0.9111111111111111"
      ]
     },
     "execution_count": 18,
     "metadata": {},
     "output_type": "execute_result"
    }
   ],
   "source": [
    "mnb.score(X_test, y_test)"
   ]
  },
  {
   "cell_type": "code",
   "execution_count": 19,
   "id": "da6a9bfd",
   "metadata": {},
   "outputs": [
    {
     "data": {
      "text/plain": [
       "0.8638888888888889"
      ]
     },
     "execution_count": 19,
     "metadata": {},
     "output_type": "execute_result"
    }
   ],
   "source": [
    "bnb.score(X_test, y_test)"
   ]
  },
  {
   "cell_type": "code",
   "execution_count": 20,
   "id": "182d7588",
   "metadata": {},
   "outputs": [
    {
     "data": {
      "text/plain": [
       "0.8472222222222222"
      ]
     },
     "execution_count": 20,
     "metadata": {},
     "output_type": "execute_result"
    }
   ],
   "source": [
    "gnb.score(X_test, y_test)"
   ]
  },
  {
   "cell_type": "code",
   "execution_count": null,
   "id": "34bf7f7d",
   "metadata": {},
   "outputs": [],
   "source": []
  },
  {
   "cell_type": "code",
   "execution_count": null,
   "id": "bfe95c1e",
   "metadata": {},
   "outputs": [],
   "source": []
  },
  {
   "cell_type": "code",
   "execution_count": null,
   "id": "12e45472",
   "metadata": {},
   "outputs": [],
   "source": []
  },
  {
   "cell_type": "code",
   "execution_count": null,
   "id": "fdcd1fd6",
   "metadata": {},
   "outputs": [],
   "source": []
  },
  {
   "cell_type": "code",
   "execution_count": null,
   "id": "97f1706e",
   "metadata": {},
   "outputs": [],
   "source": []
  },
  {
   "cell_type": "code",
   "execution_count": null,
   "id": "a9d49ec3",
   "metadata": {},
   "outputs": [],
   "source": []
  },
  {
   "cell_type": "code",
   "execution_count": null,
   "id": "b72a931f",
   "metadata": {},
   "outputs": [],
   "source": []
  },
  {
   "cell_type": "code",
   "execution_count": null,
   "id": "da356ad2",
   "metadata": {},
   "outputs": [],
   "source": []
  },
  {
   "cell_type": "code",
   "execution_count": null,
   "id": "90610e4b",
   "metadata": {},
   "outputs": [],
   "source": []
  },
  {
   "cell_type": "code",
   "execution_count": null,
   "id": "185c9a25",
   "metadata": {},
   "outputs": [],
   "source": []
  },
  {
   "cell_type": "code",
   "execution_count": null,
   "id": "fcd33768",
   "metadata": {},
   "outputs": [],
   "source": []
  },
  {
   "cell_type": "code",
   "execution_count": null,
   "id": "72355b8f",
   "metadata": {},
   "outputs": [],
   "source": []
  },
  {
   "cell_type": "code",
   "execution_count": null,
   "id": "21f98f20",
   "metadata": {},
   "outputs": [],
   "source": []
  },
  {
   "cell_type": "code",
   "execution_count": null,
   "id": "50dc6ea5",
   "metadata": {},
   "outputs": [],
   "source": []
  },
  {
   "cell_type": "code",
   "execution_count": null,
   "id": "29ca6faa",
   "metadata": {},
   "outputs": [],
   "source": []
  }
 ],
 "metadata": {
  "kernelspec": {
   "display_name": "Python 3",
   "language": "python",
   "name": "python3"
  },
  "language_info": {
   "codemirror_mode": {
    "name": "ipython",
    "version": 3
   },
   "file_extension": ".py",
   "mimetype": "text/x-python",
   "name": "python",
   "nbconvert_exporter": "python",
   "pygments_lexer": "ipython3",
   "version": "3.8.8"
  }
 },
 "nbformat": 4,
 "nbformat_minor": 5
}
