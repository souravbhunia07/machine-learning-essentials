{
 "cells": [
  {
   "cell_type": "markdown",
   "id": "46e436b7",
   "metadata": {},
   "source": [
    "# Decision Trees\n",
    "\n",
    "<img src=\"https://media.giphy.com/media/hqUxZmsgSjeMqOkzh4/giphy.gif\" width=250 align = right>\n",
    "\n",
    "1. Decision trees are supervised models.\n",
    "1. Can be used for Both classification/regression tasks.\n",
    "1. They are simple tree like structure (hierarchical in nature).\n",
    "1. Decision trees can be thought as nested if else conditions. \n",
    "1. Highly interpretable models, easy to explain the workings.\n",
    "\n",
    "<br><br>\n",
    "\n"
   ]
  },
  {
   "cell_type": "markdown",
   "id": "6f7b3ccb",
   "metadata": {},
   "source": [
    "# Why Decision Trees are popular?\n",
    "1. Easy to interpret and represent.\n",
    "1. Mimic human level thought. tries to take decisions like a human does.\n",
    "1. Ensemble models are made up of Decision trees that performs even better than individual Decision trees.\n",
    "1. When feature are categorical, Decision Trees are preffered over other models.  "
   ]
  },
  {
   "cell_type": "code",
   "execution_count": null,
   "id": "5b0432f0",
   "metadata": {},
   "outputs": [],
   "source": []
  },
  {
   "cell_type": "code",
   "execution_count": null,
   "id": "1830b8ea",
   "metadata": {},
   "outputs": [],
   "source": []
  },
  {
   "cell_type": "code",
   "execution_count": null,
   "id": "dfd919e5",
   "metadata": {},
   "outputs": [],
   "source": []
  },
  {
   "cell_type": "markdown",
   "id": "6b6c6815",
   "metadata": {},
   "source": [
    "# Decision Tree Example\n",
    "\n",
    "Q- Solve a Business Problem that wants to Predict whether a user clicks on an avdertisement of a car or not?\n",
    "\n",
    "<img src=\"https://media.giphy.com/media/6swcfDQHr3UTm/giphy.gif\" width=400 align = right>\n",
    "\n",
    "<br><br>\n",
    "\n",
    "| Sex      | Income | alreadyCar      | Techy | Age |\n",
    "| ----------- | ----------- | ----------- | ----------- | ----------- |\n",
    "| M      | <=5L       | Yes | Yes | 18-25\n",
    "| F      | 5L-15L       | No | No | 25-50\n",
    "|        | 15L+       |  |  | 50+\n"
   ]
  },
  {
   "cell_type": "code",
   "execution_count": null,
   "id": "8bed2cfd",
   "metadata": {},
   "outputs": [],
   "source": []
  },
  {
   "cell_type": "code",
   "execution_count": null,
   "id": "0137ced1",
   "metadata": {},
   "outputs": [],
   "source": []
  },
  {
   "cell_type": "code",
   "execution_count": null,
   "id": "bb80770c",
   "metadata": {},
   "outputs": [],
   "source": []
  },
  {
   "cell_type": "markdown",
   "id": "2b6e90e7",
   "metadata": {},
   "source": [
    "<br>\n",
    "<img src=\"https://media.giphy.com/media/AO1rZwtl5qRJC/giphy.gif\" width=200 align=left>\n",
    "    \n",
    "       Entropy is measure of randomness of a system.\n",
    "     \n",
    "     \n",
    "<img src=\"./imgs/entropy.png\" width=300> <br>"
   ]
  },
  {
   "cell_type": "code",
   "execution_count": null,
   "id": "dbf28fb7",
   "metadata": {},
   "outputs": [],
   "source": []
  },
  {
   "cell_type": "markdown",
   "id": "7f786299",
   "metadata": {},
   "source": [
    "# CODE : Entropy "
   ]
  },
  {
   "cell_type": "code",
   "execution_count": 1,
   "id": "1dc24a72",
   "metadata": {},
   "outputs": [],
   "source": [
    "import numpy as np"
   ]
  },
  {
   "cell_type": "code",
   "execution_count": 2,
   "id": "224d00cf",
   "metadata": {},
   "outputs": [],
   "source": [
    "def entropy(var):\n",
    "    N = var.shape[0]\n",
    "    values, counts = np.unique(var, return_counts=True )\n",
    "    \n",
    "    ent = 0.0\n",
    "    \n",
    "    for i in counts:\n",
    "        p = i/N\n",
    "        ent += (p * np.log2(p))\n",
    "        \n",
    "    return -ent"
   ]
  },
  {
   "cell_type": "code",
   "execution_count": 3,
   "id": "635e0e79",
   "metadata": {},
   "outputs": [],
   "source": [
    "Y = np.array([1,0,0,1,0,1,0,1])"
   ]
  },
  {
   "cell_type": "code",
   "execution_count": 4,
   "id": "28867b1b",
   "metadata": {},
   "outputs": [],
   "source": [
    "X = np.array([1,1,1,1,1,1,1])"
   ]
  },
  {
   "cell_type": "code",
   "execution_count": 5,
   "id": "082b5ea3",
   "metadata": {},
   "outputs": [
    {
     "data": {
      "text/plain": [
       "1.0"
      ]
     },
     "execution_count": 5,
     "metadata": {},
     "output_type": "execute_result"
    }
   ],
   "source": [
    "entropy(Y)"
   ]
  },
  {
   "cell_type": "code",
   "execution_count": 6,
   "id": "45553195",
   "metadata": {},
   "outputs": [
    {
     "data": {
      "text/plain": [
       "-0.0"
      ]
     },
     "execution_count": 6,
     "metadata": {},
     "output_type": "execute_result"
    }
   ],
   "source": [
    "entropy(X)"
   ]
  },
  {
   "cell_type": "code",
   "execution_count": null,
   "id": "83dfef6c",
   "metadata": {},
   "outputs": [],
   "source": []
  },
  {
   "cell_type": "code",
   "execution_count": null,
   "id": "fedecfd8",
   "metadata": {},
   "outputs": [],
   "source": []
  },
  {
   "cell_type": "markdown",
   "id": "cf5be31d",
   "metadata": {},
   "source": [
    "# Information Gain"
   ]
  },
  {
   "cell_type": "markdown",
   "id": "5d2b9507",
   "metadata": {},
   "source": [
    "\n",
    "<img src=\"https://media.giphy.com/media/8ZhxIppeXmBw606oUR/giphy.gif\" width=300 align = right>\n",
    "\n",
    "<br><br>\n",
    "$$ Gain(Y, A)  = H_D(Y) - \\sum_{i=1}^{k} \\frac{|D_i|} {|D|}{ H_{D_i}(Y)} $$"
   ]
  },
  {
   "cell_type": "code",
   "execution_count": null,
   "id": "c182c047",
   "metadata": {},
   "outputs": [],
   "source": []
  },
  {
   "cell_type": "markdown",
   "id": "5d8b3a16",
   "metadata": {},
   "source": [
    "# Golf Dataset\n",
    "\n",
    "<img src=\"./imgs/golf.png\" width=500 align = left>"
   ]
  },
  {
   "cell_type": "code",
   "execution_count": null,
   "id": "5bd3b92b",
   "metadata": {},
   "outputs": [],
   "source": []
  },
  {
   "cell_type": "code",
   "execution_count": null,
   "id": "a20595cd",
   "metadata": {},
   "outputs": [],
   "source": []
  },
  {
   "cell_type": "markdown",
   "id": "a46840bc",
   "metadata": {},
   "source": [
    "# CODE : Split Data"
   ]
  },
  {
   "cell_type": "code",
   "execution_count": 7,
   "id": "d99f49fb",
   "metadata": {},
   "outputs": [],
   "source": [
    "import pandas as pd"
   ]
  },
  {
   "cell_type": "code",
   "execution_count": 8,
   "id": "f4c23622",
   "metadata": {},
   "outputs": [],
   "source": [
    "df = pd.read_csv('golf.csv')"
   ]
  },
  {
   "cell_type": "code",
   "execution_count": 9,
   "id": "54c8abba",
   "metadata": {},
   "outputs": [
    {
     "data": {
      "text/html": [
       "<div>\n",
       "<style scoped>\n",
       "    .dataframe tbody tr th:only-of-type {\n",
       "        vertical-align: middle;\n",
       "    }\n",
       "\n",
       "    .dataframe tbody tr th {\n",
       "        vertical-align: top;\n",
       "    }\n",
       "\n",
       "    .dataframe thead th {\n",
       "        text-align: right;\n",
       "    }\n",
       "</style>\n",
       "<table border=\"1\" class=\"dataframe\">\n",
       "  <thead>\n",
       "    <tr style=\"text-align: right;\">\n",
       "      <th></th>\n",
       "      <th>Outlook</th>\n",
       "      <th>Temperature</th>\n",
       "      <th>Humidity</th>\n",
       "      <th>Windy</th>\n",
       "      <th>Play</th>\n",
       "    </tr>\n",
       "  </thead>\n",
       "  <tbody>\n",
       "    <tr>\n",
       "      <th>0</th>\n",
       "      <td>sunny</td>\n",
       "      <td>hot</td>\n",
       "      <td>high</td>\n",
       "      <td>False</td>\n",
       "      <td>no</td>\n",
       "    </tr>\n",
       "    <tr>\n",
       "      <th>1</th>\n",
       "      <td>sunny</td>\n",
       "      <td>hot</td>\n",
       "      <td>high</td>\n",
       "      <td>True</td>\n",
       "      <td>no</td>\n",
       "    </tr>\n",
       "    <tr>\n",
       "      <th>2</th>\n",
       "      <td>overcast</td>\n",
       "      <td>hot</td>\n",
       "      <td>high</td>\n",
       "      <td>False</td>\n",
       "      <td>yes</td>\n",
       "    </tr>\n",
       "    <tr>\n",
       "      <th>3</th>\n",
       "      <td>rainy</td>\n",
       "      <td>mild</td>\n",
       "      <td>high</td>\n",
       "      <td>False</td>\n",
       "      <td>yes</td>\n",
       "    </tr>\n",
       "    <tr>\n",
       "      <th>4</th>\n",
       "      <td>rainy</td>\n",
       "      <td>cool</td>\n",
       "      <td>normal</td>\n",
       "      <td>False</td>\n",
       "      <td>yes</td>\n",
       "    </tr>\n",
       "  </tbody>\n",
       "</table>\n",
       "</div>"
      ],
      "text/plain": [
       "    Outlook Temperature Humidity  Windy Play\n",
       "0     sunny         hot     high  False   no\n",
       "1     sunny         hot     high   True   no\n",
       "2  overcast         hot     high  False  yes\n",
       "3     rainy        mild     high  False  yes\n",
       "4     rainy        cool   normal  False  yes"
      ]
     },
     "execution_count": 9,
     "metadata": {},
     "output_type": "execute_result"
    }
   ],
   "source": [
    "df.head()"
   ]
  },
  {
   "cell_type": "code",
   "execution_count": 10,
   "id": "a4478e6e",
   "metadata": {},
   "outputs": [],
   "source": [
    "def divide_data(data, feature):\n",
    "    # here we are working data frames.\n",
    "    \n",
    "    DATA = {}\n",
    "    \n",
    "    feat_values = list(data[feature].value_counts().index)\n",
    "    occurence = list(data[feature].value_counts())\n",
    "    \n",
    "    for val in feat_values:\n",
    "        DATA[val] = {'data' : pd.DataFrame([], columns = data.columns), 'len': 0}\n",
    "        \n",
    "        \n",
    "    for ix in range(data.shape[0]):\n",
    "        val = data[feature].iloc[ix]\n",
    "        \n",
    "        DATA[val]['data'] = DATA[val]['data'].append(data.iloc[ix])\n",
    "        \n",
    "        idx = feat_values.index(val)\n",
    "        DATA[val]['len']  = occurence[idx]\n",
    "    \n",
    "    return DATA"
   ]
  },
  {
   "cell_type": "code",
   "execution_count": 11,
   "id": "68913b46",
   "metadata": {},
   "outputs": [
    {
     "data": {
      "text/plain": [
       "{'sunny': {'data':    Outlook Temperature Humidity  Windy Play\n",
       "  0    sunny         hot     high  False   no\n",
       "  1    sunny         hot     high   True   no\n",
       "  7    sunny        mild     high  False   no\n",
       "  8    sunny        cool   normal  False  yes\n",
       "  10   sunny        mild   normal   True  yes,\n",
       "  'len': 5},\n",
       " 'rainy': {'data':    Outlook Temperature Humidity  Windy Play\n",
       "  3    rainy        mild     high  False  yes\n",
       "  4    rainy        cool   normal  False  yes\n",
       "  5    rainy        cool   normal   True   no\n",
       "  9    rainy        mild   normal  False  yes\n",
       "  13   rainy        mild     high   True   no,\n",
       "  'len': 5},\n",
       " 'overcast': {'data':      Outlook Temperature Humidity  Windy Play\n",
       "  2   overcast         hot     high  False  yes\n",
       "  6   overcast        cool   normal   True  yes\n",
       "  11  overcast        mild     high   True  yes\n",
       "  12  overcast         hot   normal  False  yes,\n",
       "  'len': 4}}"
      ]
     },
     "execution_count": 11,
     "metadata": {},
     "output_type": "execute_result"
    }
   ],
   "source": [
    "divide_data(df, 'Outlook')"
   ]
  },
  {
   "cell_type": "code",
   "execution_count": null,
   "id": "5fcc80fd",
   "metadata": {},
   "outputs": [],
   "source": []
  },
  {
   "cell_type": "markdown",
   "id": "b63a4ba2",
   "metadata": {},
   "source": [
    "# CODE : Information Gain"
   ]
  },
  {
   "cell_type": "code",
   "execution_count": null,
   "id": "80762a03",
   "metadata": {},
   "outputs": [],
   "source": []
  },
  {
   "cell_type": "code",
   "execution_count": 12,
   "id": "6d099d2d",
   "metadata": {},
   "outputs": [],
   "source": [
    "def information_gain(data, feature):\n",
    "    examples = data.shape[0]\n",
    "    \n",
    "    DATA = divide_data(data, feature)\n",
    "    \n",
    "    keys = DATA.keys()\n",
    "    \n",
    "    \n",
    "    ent_of_children = 0.0\n",
    "    \n",
    "    for key in keys:\n",
    "        ent_of_children +=  ( (DATA[key]['len']/examples) * entropy(DATA[key]['data']['Play']) )\n",
    "        \n",
    "    info_gain = entropy(data['Play']) - ent_of_children\n",
    "    return info_gain"
   ]
  },
  {
   "cell_type": "code",
   "execution_count": 13,
   "id": "a4b2e0fd",
   "metadata": {},
   "outputs": [
    {
     "data": {
      "text/plain": [
       "0.24674981977443933"
      ]
     },
     "execution_count": 13,
     "metadata": {},
     "output_type": "execute_result"
    }
   ],
   "source": [
    "information_gain(df, 'Outlook')"
   ]
  },
  {
   "cell_type": "code",
   "execution_count": 14,
   "id": "fe76c1f8",
   "metadata": {},
   "outputs": [
    {
     "data": {
      "text/plain": [
       "0.04812703040826949"
      ]
     },
     "execution_count": 14,
     "metadata": {},
     "output_type": "execute_result"
    }
   ],
   "source": [
    "information_gain(df, 'Windy')"
   ]
  },
  {
   "cell_type": "code",
   "execution_count": 15,
   "id": "cc7ec047",
   "metadata": {},
   "outputs": [
    {
     "data": {
      "text/plain": [
       "0.02922256565895487"
      ]
     },
     "execution_count": 15,
     "metadata": {},
     "output_type": "execute_result"
    }
   ],
   "source": [
    "information_gain(df, 'Temperature')"
   ]
  },
  {
   "cell_type": "code",
   "execution_count": 16,
   "id": "d7f6c7f9",
   "metadata": {},
   "outputs": [
    {
     "data": {
      "text/plain": [
       "0.15183550136234159"
      ]
     },
     "execution_count": 16,
     "metadata": {},
     "output_type": "execute_result"
    }
   ],
   "source": [
    "information_gain(df, 'Humidity')"
   ]
  },
  {
   "cell_type": "code",
   "execution_count": null,
   "id": "ee7bb990",
   "metadata": {},
   "outputs": [],
   "source": []
  },
  {
   "cell_type": "code",
   "execution_count": null,
   "id": "048f2724",
   "metadata": {},
   "outputs": [],
   "source": []
  },
  {
   "cell_type": "markdown",
   "id": "01123d80",
   "metadata": {},
   "source": [
    "# Constructing a Decision Tree"
   ]
  },
  {
   "cell_type": "markdown",
   "id": "8d00e2b3",
   "metadata": {},
   "source": [
    "<img src=\"./imgs/tree.png\" width=500>"
   ]
  },
  {
   "cell_type": "code",
   "execution_count": null,
   "id": "f95c18f5",
   "metadata": {},
   "outputs": [],
   "source": []
  },
  {
   "cell_type": "code",
   "execution_count": null,
   "id": "12864330",
   "metadata": {},
   "outputs": [],
   "source": []
  },
  {
   "cell_type": "code",
   "execution_count": null,
   "id": "62fe2268",
   "metadata": {},
   "outputs": [],
   "source": []
  },
  {
   "cell_type": "markdown",
   "id": "ef39099d",
   "metadata": {},
   "source": [
    "<img src=\"https://media.giphy.com/media/cKKXNlTYino7hWNXwl/giphy.gif\" width=300 align = right>\n",
    "<br><br><br>\n",
    "\n",
    "# Stopping Condition\n",
    "1. Pure Node\n",
    "2. Can't grow the tree anymore because of lack of points.\n",
    "3. If already reach a max depth."
   ]
  },
  {
   "cell_type": "code",
   "execution_count": null,
   "id": "af16d86c",
   "metadata": {},
   "outputs": [],
   "source": []
  },
  {
   "cell_type": "code",
   "execution_count": null,
   "id": "338e1435",
   "metadata": {},
   "outputs": [],
   "source": []
  },
  {
   "cell_type": "markdown",
   "id": "0cf5738a",
   "metadata": {},
   "source": [
    "# CODE : Building a Decision Tree"
   ]
  },
  {
   "cell_type": "code",
   "execution_count": null,
   "id": "2e5c50d1",
   "metadata": {},
   "outputs": [],
   "source": []
  },
  {
   "cell_type": "code",
   "execution_count": 73,
   "id": "27d9a136",
   "metadata": {},
   "outputs": [],
   "source": [
    "class DecisionTree:\n",
    "    \n",
    "    # constructor\n",
    "    def __init__(self, depth=0, max_depth=5):\n",
    "        # Creating a Node\n",
    "        self.children = {}\n",
    "        self.fkey = None\n",
    "        self.max_depth = max_depth\n",
    "        self.depth = depth\n",
    "        self.target = None\n",
    "        \n",
    "    def train(self, data):\n",
    "        features = ['Outlook', 'Temperature', 'Humidity', 'Windy']\n",
    "        \n",
    "        info_gains = []\n",
    "        \n",
    "        for f in features:\n",
    "            i_gain = information_gain(data, f)\n",
    "            info_gains.append(i_gain)\n",
    "            \n",
    "        # finding the best feature\n",
    "        self.fkey = features[np.argmax(info_gains)]\n",
    "        \n",
    "        #Spliting the Data\n",
    "        DATA = divide_data(data, self.fkey)\n",
    "        \n",
    "        \n",
    "        \n",
    "        # Giving a target label to the Node\n",
    "        labels = list(data['Play'].value_counts().index)\n",
    "        freq = list(data['Play'].value_counts().values)\n",
    "        \n",
    "        self.target = labels[np.argmax(freq)]\n",
    "        \n",
    "        \n",
    "    \n",
    "        \n",
    "        ###### STOPPING CONDITIONS ######\n",
    "        \n",
    "        have_data = 0\n",
    "        keys = DATA.keys()\n",
    "        \n",
    "        for key in keys:\n",
    "            if DATA[key]['len'] > 0:\n",
    "                have_data +=1\n",
    "        \n",
    "        # 1. If it is pure node \n",
    "        if have_data<2:\n",
    "            return \n",
    "        \n",
    "    \n",
    "        # 2. Early Stop if you have reached max depth\n",
    "        if(self.depth >= self.max_depth):\n",
    "            return\n",
    "        \n",
    "        \n",
    "        print(\"\\t\"*self.depth + \"Making tree with - \", self.fkey)\n",
    "        \n",
    "        \n",
    "        # Recursively train child Node\n",
    "        for key in keys:\n",
    "            new_data = DATA[key]['data']\n",
    "            self.children[key] = DecisionTree(depth = self.depth + 1)\n",
    "            self.children[key].train(new_data)\n",
    "            \n",
    "        return  \n",
    "    \n",
    "    \n",
    "    def predict(self, test):\n",
    "        if self.children == {}:\n",
    "            return self.target\n",
    "        return self.children[test[self.fkey][0]].predict(test)"
   ]
  },
  {
   "cell_type": "markdown",
   "id": "ddf41668",
   "metadata": {},
   "source": [
    "# Explore the Model"
   ]
  },
  {
   "cell_type": "code",
   "execution_count": 74,
   "id": "b97cbf66",
   "metadata": {},
   "outputs": [],
   "source": [
    "model = DecisionTree()"
   ]
  },
  {
   "cell_type": "code",
   "execution_count": 75,
   "id": "2e864622",
   "metadata": {},
   "outputs": [
    {
     "name": "stdout",
     "output_type": "stream",
     "text": [
      "Making tree with -  Outlook\n",
      "\tMaking tree with -  Humidity\n",
      "\tMaking tree with -  Windy\n"
     ]
    }
   ],
   "source": [
    "model.train(df)"
   ]
  },
  {
   "cell_type": "code",
   "execution_count": 76,
   "id": "816a2a32",
   "metadata": {},
   "outputs": [
    {
     "data": {
      "text/plain": [
       "<__main__.DecisionTree at 0x7ff5d0abf100>"
      ]
     },
     "execution_count": 76,
     "metadata": {},
     "output_type": "execute_result"
    }
   ],
   "source": [
    "model"
   ]
  },
  {
   "cell_type": "code",
   "execution_count": 77,
   "id": "aac46af2",
   "metadata": {},
   "outputs": [
    {
     "data": {
      "text/plain": [
       "'yes'"
      ]
     },
     "execution_count": 77,
     "metadata": {},
     "output_type": "execute_result"
    }
   ],
   "source": [
    "model.target"
   ]
  },
  {
   "cell_type": "code",
   "execution_count": 78,
   "id": "b24dfda6",
   "metadata": {},
   "outputs": [
    {
     "data": {
      "text/plain": [
       "'Outlook'"
      ]
     },
     "execution_count": 78,
     "metadata": {},
     "output_type": "execute_result"
    }
   ],
   "source": [
    "model.fkey"
   ]
  },
  {
   "cell_type": "code",
   "execution_count": 79,
   "id": "0d77bf3e",
   "metadata": {},
   "outputs": [
    {
     "data": {
      "text/plain": [
       "{'sunny': <__main__.DecisionTree at 0x7ff5d0f565e0>,\n",
       " 'rainy': <__main__.DecisionTree at 0x7ff5d0eebf70>,\n",
       " 'overcast': <__main__.DecisionTree at 0x7ff5d0abfb50>}"
      ]
     },
     "execution_count": 79,
     "metadata": {},
     "output_type": "execute_result"
    }
   ],
   "source": [
    "model.children"
   ]
  },
  {
   "cell_type": "code",
   "execution_count": 80,
   "id": "f322409e",
   "metadata": {},
   "outputs": [
    {
     "data": {
      "text/plain": [
       "<__main__.DecisionTree at 0x7ff5d0f565e0>"
      ]
     },
     "execution_count": 80,
     "metadata": {},
     "output_type": "execute_result"
    }
   ],
   "source": [
    "model.children['sunny']"
   ]
  },
  {
   "cell_type": "code",
   "execution_count": 81,
   "id": "967c084b",
   "metadata": {},
   "outputs": [
    {
     "data": {
      "text/plain": [
       "'Humidity'"
      ]
     },
     "execution_count": 81,
     "metadata": {},
     "output_type": "execute_result"
    }
   ],
   "source": [
    "model.children['sunny'].fkey"
   ]
  },
  {
   "cell_type": "code",
   "execution_count": 82,
   "id": "1b1b6a37",
   "metadata": {},
   "outputs": [
    {
     "data": {
      "text/plain": [
       "{'high': <__main__.DecisionTree at 0x7ff5d0ad6280>,\n",
       " 'normal': <__main__.DecisionTree at 0x7ff5d0ed82e0>}"
      ]
     },
     "execution_count": 82,
     "metadata": {},
     "output_type": "execute_result"
    }
   ],
   "source": [
    "model.children['sunny'].children"
   ]
  },
  {
   "cell_type": "code",
   "execution_count": 83,
   "id": "6cae8ba8",
   "metadata": {},
   "outputs": [
    {
     "data": {
      "text/plain": [
       "{}"
      ]
     },
     "execution_count": 83,
     "metadata": {},
     "output_type": "execute_result"
    }
   ],
   "source": [
    "model.children['sunny'].children['high'].children"
   ]
  },
  {
   "cell_type": "code",
   "execution_count": 84,
   "id": "4a7937bd",
   "metadata": {},
   "outputs": [
    {
     "data": {
      "text/plain": [
       "'yes'"
      ]
     },
     "execution_count": 84,
     "metadata": {},
     "output_type": "execute_result"
    }
   ],
   "source": [
    "model.children['overcast'].target"
   ]
  },
  {
   "cell_type": "code",
   "execution_count": 85,
   "id": "f89676f6",
   "metadata": {},
   "outputs": [
    {
     "data": {
      "text/plain": [
       "{}"
      ]
     },
     "execution_count": 85,
     "metadata": {},
     "output_type": "execute_result"
    }
   ],
   "source": [
    "model.children['overcast'].children"
   ]
  },
  {
   "cell_type": "markdown",
   "id": "39f6c4b7",
   "metadata": {},
   "source": [
    "# Prediction Time"
   ]
  },
  {
   "cell_type": "markdown",
   "id": "6d61eae0",
   "metadata": {},
   "source": [
    "<img src=\"https://media.giphy.com/media/UTpbmJmHzOOApoGRuW/giphy.gif\" width=200 align=left>"
   ]
  },
  {
   "cell_type": "code",
   "execution_count": null,
   "id": "2a3ffda9",
   "metadata": {},
   "outputs": [],
   "source": []
  },
  {
   "cell_type": "code",
   "execution_count": 94,
   "id": "39933506",
   "metadata": {},
   "outputs": [],
   "source": [
    "x_test = pd.DataFrame([['sunny', 'hot', 'normal', False]], columns=list(df.columns.values[:-1]))"
   ]
  },
  {
   "cell_type": "code",
   "execution_count": 95,
   "id": "afbc0099",
   "metadata": {},
   "outputs": [
    {
     "data": {
      "text/html": [
       "<div>\n",
       "<style scoped>\n",
       "    .dataframe tbody tr th:only-of-type {\n",
       "        vertical-align: middle;\n",
       "    }\n",
       "\n",
       "    .dataframe tbody tr th {\n",
       "        vertical-align: top;\n",
       "    }\n",
       "\n",
       "    .dataframe thead th {\n",
       "        text-align: right;\n",
       "    }\n",
       "</style>\n",
       "<table border=\"1\" class=\"dataframe\">\n",
       "  <thead>\n",
       "    <tr style=\"text-align: right;\">\n",
       "      <th></th>\n",
       "      <th>Outlook</th>\n",
       "      <th>Temperature</th>\n",
       "      <th>Humidity</th>\n",
       "      <th>Windy</th>\n",
       "    </tr>\n",
       "  </thead>\n",
       "  <tbody>\n",
       "    <tr>\n",
       "      <th>0</th>\n",
       "      <td>sunny</td>\n",
       "      <td>hot</td>\n",
       "      <td>normal</td>\n",
       "      <td>False</td>\n",
       "    </tr>\n",
       "  </tbody>\n",
       "</table>\n",
       "</div>"
      ],
      "text/plain": [
       "  Outlook Temperature Humidity  Windy\n",
       "0   sunny         hot   normal  False"
      ]
     },
     "execution_count": 95,
     "metadata": {},
     "output_type": "execute_result"
    }
   ],
   "source": [
    "x_test"
   ]
  },
  {
   "cell_type": "code",
   "execution_count": 96,
   "id": "eb24cda9",
   "metadata": {
    "scrolled": true
   },
   "outputs": [
    {
     "data": {
      "text/plain": [
       "'yes'"
      ]
     },
     "execution_count": 96,
     "metadata": {},
     "output_type": "execute_result"
    }
   ],
   "source": [
    "model.predict(x_test)"
   ]
  },
  {
   "cell_type": "code",
   "execution_count": null,
   "id": "ea650ab0",
   "metadata": {},
   "outputs": [],
   "source": []
  }
 ],
 "metadata": {
  "kernelspec": {
   "display_name": "Python 3",
   "language": "python",
   "name": "python3"
  },
  "language_info": {
   "codemirror_mode": {
    "name": "ipython",
    "version": 3
   },
   "file_extension": ".py",
   "mimetype": "text/x-python",
   "name": "python",
   "nbconvert_exporter": "python",
   "pygments_lexer": "ipython3",
   "version": "3.8.8"
  }
 },
 "nbformat": 4,
 "nbformat_minor": 5
}
