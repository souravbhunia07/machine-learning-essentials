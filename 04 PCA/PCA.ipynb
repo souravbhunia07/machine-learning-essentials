{
 "cells": [
  {
   "cell_type": "code",
   "execution_count": 104,
   "id": "78ddcaf5",
   "metadata": {
    "slideshow": {
     "slide_type": "skip"
    }
   },
   "outputs": [],
   "source": [
    "# jupyter nbconvert ./PCA.ipynb --to slides --post serve"
   ]
  },
  {
   "cell_type": "markdown",
   "id": "9d341bed",
   "metadata": {
    "slideshow": {
     "slide_type": "slide"
    }
   },
   "source": [
    "# What is PCA?\n",
    "- PCA is a dimensionality reduction technique.\n",
    "- It is a Feature Extraction algorithm, not a feature selection.\n",
    "\n",
    "    convert n features to k, where k<n"
   ]
  },
  {
   "cell_type": "markdown",
   "id": "e2774eb2",
   "metadata": {
    "slideshow": {
     "slide_type": "slide"
    }
   },
   "source": [
    "# Applications of PCA\n",
    "\n",
    "**1. Data Compression**\n",
    "\n",
    "    - e.g. Converting a 50D data into 10D.\n",
    "    \n",
    "    \n",
    "**2. Data Visualization**\n",
    "\n",
    "    - reducing the dimension to 2D or 3D, in order to visualize the dataset \n",
    "    \n",
    "    \n",
    "**3. Speed Up Computation**\n",
    "\n",
    "    - reduces load on memory"
   ]
  },
  {
   "cell_type": "markdown",
   "id": "e4bfa4bb",
   "metadata": {
    "slideshow": {
     "slide_type": "slide"
    }
   },
   "source": [
    "# Intuition of PCA\n",
    "\n",
    "| Test Scores | Assignment | CGPA |\n",
    "|:-------------:|:------------:|------|\n",
    "| 91          | 3          |      |\n",
    "| 52          | 2          |      |\n",
    "| 85          | 3          |      |\n",
    "| 79          | 3          |      |\n",
    "| 63          | 2          |      |\n",
    "\n",
    "    - preserve the direction/feature having maxium variability.\n",
    "    - more spread = more information\n",
    "    "
   ]
  },
  {
   "cell_type": "code",
   "execution_count": 63,
   "id": "fc43821c",
   "metadata": {
    "slideshow": {
     "slide_type": "skip"
    }
   },
   "outputs": [],
   "source": [
    "X = np.random.randn(50, 1)*5 + 10 \n",
    "\n",
    "y = 3*X + np.random.randn(50,1)*5\n",
    "\n",
    "X = (X - X.mean())/X.std()\n",
    "y = (y - y.mean())/y.std()\n"
   ]
  },
  {
   "cell_type": "code",
   "execution_count": 107,
   "id": "6535b155",
   "metadata": {
    "slideshow": {
     "slide_type": "skip"
    }
   },
   "outputs": [
    {
     "data": {
      "image/png": "[encoded data removed]",
      "text/plain": [
       "<Figure size 432x288 with 1 Axes>"
      ]
     },
     "metadata": {
      "needs_background": "light"
     },
     "output_type": "display_data"
    }
   ],
   "source": [
    "\n",
    "x, u = [0,0.4],[0,0.4]\n",
    "plt.scatter(X, y)\n",
    "plt.xlabel(\"Age\")\n",
    "plt.ylabel(\"Salaries\")\n",
    "plt.arrow(0, 0, 0.5, 0.5, width = 0.05, color='red')\n",
    "# plt.show()\n",
    "plt.savefig(\"./imgs/frame_with_dir.jpg\")"
   ]
  },
  {
   "cell_type": "markdown",
   "id": "5181b00d",
   "metadata": {
    "slideshow": {
     "slide_type": "subslide"
    }
   },
   "source": [
    "**Now 2D data looks like this. Which feature would you choose?**\n",
    "\n",
    "<img src=\"./imgs/frame1.jpg\" align=left>\n",
    "\n",
    "\n",
    "**Idea:**\n",
    "1. Find the directions $f_1^{'}$ and $f_2^{'}$. such that spread on $f_1^{'}$ >> spread on $f_2^{'}$\n",
    "2. Drop $f_2^{'}$\n",
    "3. Project all data points onto $f_1^{'}$\n",
    "\n",
    "        - Thus 2D -> 1D\n",
    "        - It is like the rotation of axis\n",
    "        \n",
    "        \n",
    "        \n",
    "<br>\n",
    "\n",
    "**Note:** \n",
    "Find a direction such that the variance of $x^{i}$ projected onto the direction is maximized."
   ]
  },
  {
   "cell_type": "markdown",
   "id": "2a55c5cd",
   "metadata": {
    "slideshow": {
     "slide_type": "slide"
    }
   },
   "source": [
    "# PCA Objective - Maximizing Variance"
   ]
  },
  {
   "cell_type": "markdown",
   "id": "4ea98365",
   "metadata": {
    "slideshow": {
     "slide_type": "subslide"
    }
   },
   "source": [
    "<img src=\"./imgs/frame_with_direction.jpg\" align=left>\n",
    "\n",
    "$\\Large u_1 : unit vector $,  $\\large ||u|| = 1$\n",
    "\n",
    "<!-- $\\huge u^T.u = 1$ -->\n",
    "\n",
    "\n",
    "$\\huge x_i^{'} = proj_{u1} (x_i) $\n",
    "\n",
    "$\\huge x_i^{'} = \\frac{u_1.x_i}{||u_1||} $\n",
    "\n",
    "$\\huge x_i^{'} = u_1^T.x_i $\n",
    "\n",
    "<br>\n",
    "Find $u_1$ such that var{$proj_{u1} (x_i)$} is maximum."
   ]
  },
  {
   "cell_type": "markdown",
   "id": "c8c2b508",
   "metadata": {
    "slideshow": {
     "slide_type": "slide"
    }
   },
   "source": [
    "# PCA Objective - Minimizing Distances"
   ]
  },
  {
   "cell_type": "markdown",
   "id": "5305afc2",
   "metadata": {
    "slideshow": {
     "slide_type": "subslide"
    }
   },
   "source": [
    "<img src=\"./imgs/frame_with_dis.jpg\" align=left>\n",
    "\n",
    "$\\Large min_{u_1} \\sum_{i=1}^{m} {d_i^2} $ \n",
    "\n",
    "\n",
    "\n",
    "<br>\n",
    "Find $u_1$ such that if we take all the distance sqaured from each point on $u_1$ , it should be minimized."
   ]
  },
  {
   "cell_type": "markdown",
   "id": "0d911785",
   "metadata": {
    "slideshow": {
     "slide_type": "slide"
    }
   },
   "source": [
    "# Eigen Values and Eigen Vectors"
   ]
  },
  {
   "cell_type": "markdown",
   "id": "1aba7e1e",
   "metadata": {
    "slideshow": {
     "slide_type": "subslide"
    }
   },
   "source": [
    "####  Equation : \n",
    "$\\Large  \\lambda_1.v_1 = S.v_1$\n",
    "\n",
    "where:\n",
    "\n",
    "$\\lambda_1 : eigen value$\n",
    ", $v_1 : eigen vector$\n",
    ", $S : Covariance Matrix$"
   ]
  },
  {
   "cell_type": "markdown",
   "id": "0f2e497f",
   "metadata": {
    "slideshow": {
     "slide_type": "slide"
    }
   },
   "source": [
    "# PCA Summary\n",
    "\n",
    "1. Column Standardise\n",
    "2. $ \\large S = \\frac{X^T.X}{m}$\n",
    "3. compute eigen values & eigenvectors of S. <br>\n",
    " $eigen(S) = (\\lambda_1 \\geq \\lambda_2 \\geq  \\lambda_3 ... \\geq \\lambda_n$)\n",
    "and \n",
    "( $v_1, v_2, v_3 ... v_n$ )\n",
    "4. $u_1 = v_1$ and  $u_2 = v_2 ...$"
   ]
  },
  {
   "cell_type": "markdown",
   "id": "2d0c9050",
   "metadata": {
    "slideshow": {
     "slide_type": "slide"
    }
   },
   "source": [
    "# Understanding Eigen-values"
   ]
  }
 ],
 "metadata": {
  "celltoolbar": "Slideshow",
  "kernelspec": {
   "display_name": "Python 3",
   "language": "python",
   "name": "python3"
  },
  "language_info": {
   "codemirror_mode": {
    "name": "ipython",
    "version": 3
   },
   "file_extension": ".py",
   "mimetype": "text/x-python",
   "name": "python",
   "nbconvert_exporter": "python",
   "pygments_lexer": "ipython3",
   "version": "3.8.8"
  }
 },
 "nbformat": 4,
 "nbformat_minor": 5
}
