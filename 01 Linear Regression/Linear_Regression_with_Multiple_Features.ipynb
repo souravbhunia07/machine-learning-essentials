{
  "nbformat": 4,
  "nbformat_minor": 0,
  "metadata": {
    "colab": {
      "provenance": []
    },
    "kernelspec": {
      "name": "python3",
      "display_name": "Python 3"
    },
    "language_info": {
      "name": "python"
    }
  },
  "cells": [
    {
      "cell_type": "code",
      "execution_count": null,
      "metadata": {
        "id": "bMU5fs0gxkaU"
      },
      "outputs": [],
      "source": [
        "import numpy as np\n",
        "import pandas as pd\n",
        "from sklearn.datasets import make_regression\n",
        "from sklearn.model_selection import train_test_split\n",
        "import matplotlib.pyplot as plt\n",
        "plt.style.use(\"seaborn\")"
      ]
    },
    {
      "cell_type": "code",
      "source": [
        "# Step-1 Generate Data\n",
        "X,y = make_regression(n_samples=500,n_features=10,n_informative=5,noise=2, random_state=0)\n",
        "print(X.shape,y.shape)\n",
        "n_features = X.shape[1]"
      ],
      "metadata": {
        "colab": {
          "base_uri": "https://localhost:8080/"
        },
        "id": "_zJl_GEX0547",
        "outputId": "c0e73e70-a6c6-4aad-ea1a-c0b4a7639f7d"
      },
      "execution_count": null,
      "outputs": [
        {
          "output_type": "stream",
          "name": "stdout",
          "text": [
            "(500, 10) (500,)\n"
          ]
        }
      ]
    },
    {
      "cell_type": "code",
      "source": [
        "pd.DataFrame(X).head()"
      ],
      "metadata": {
        "colab": {
          "base_uri": "https://localhost:8080/",
          "height": 206
        },
        "id": "yoxdmtdw1CTz",
        "outputId": "e20fdf7a-88d5-4106-97c4-5719a45af204"
      },
      "execution_count": null,
      "outputs": [
        {
          "output_type": "execute_result",
          "data": {
            "text/plain": [
              "          0         1         2         3         4         5         6  \\\n",
              "0  1.706468  1.511639 -0.000417  0.374155  0.073285  0.701783  0.409552   \n",
              "1 -1.616956  0.640132 -0.369182 -0.239379 -0.738031 -0.024326  1.099660   \n",
              "2  0.093953 -0.130107  0.929505  0.582225 -2.739677  0.943046 -2.094603   \n",
              "3 -1.542758 -0.789954  0.537035 -0.286835 -2.369623 -0.767332  1.634406   \n",
              "4 -0.101003 -2.231538  0.436187  1.571463  1.324868 -0.587375  1.077315   \n",
              "\n",
              "          7         8         9  \n",
              "0 -0.461894 -0.626490 -0.799593  \n",
              "1  0.279925 -0.098150  0.655264  \n",
              "2 -0.569312  0.269904  0.123722  \n",
              "3 -0.260560  0.128957  0.571227  \n",
              "4  0.840648  0.261106  0.811090  "
            ],
            "text/html": [
              "\n",
              "  <div id=\"df-95fe4abe-e1a7-406d-ab9e-7f2130cb9bfa\">\n",
              "    <div class=\"colab-df-container\">\n",
              "      <div>\n",
              "<style scoped>\n",
              "    .dataframe tbody tr th:only-of-type {\n",
              "        vertical-align: middle;\n",
              "    }\n",
              "\n",
              "    .dataframe tbody tr th {\n",
              "        vertical-align: top;\n",
              "    }\n",
              "\n",
              "    .dataframe thead th {\n",
              "        text-align: right;\n",
              "    }\n",
              "</style>\n",
              "<table border=\"1\" class=\"dataframe\">\n",
              "  <thead>\n",
              "    <tr style=\"text-align: right;\">\n",
              "      <th></th>\n",
              "      <th>0</th>\n",
              "      <th>1</th>\n",
              "      <th>2</th>\n",
              "      <th>3</th>\n",
              "      <th>4</th>\n",
              "      <th>5</th>\n",
              "      <th>6</th>\n",
              "      <th>7</th>\n",
              "      <th>8</th>\n",
              "      <th>9</th>\n",
              "    </tr>\n",
              "  </thead>\n",
              "  <tbody>\n",
              "    <tr>\n",
              "      <th>0</th>\n",
              "      <td>1.706468</td>\n",
              "      <td>1.511639</td>\n",
              "      <td>-0.000417</td>\n",
              "      <td>0.374155</td>\n",
              "      <td>0.073285</td>\n",
              "      <td>0.701783</td>\n",
              "      <td>0.409552</td>\n",
              "      <td>-0.461894</td>\n",
              "      <td>-0.626490</td>\n",
              "      <td>-0.799593</td>\n",
              "    </tr>\n",
              "    <tr>\n",
              "      <th>1</th>\n",
              "      <td>-1.616956</td>\n",
              "      <td>0.640132</td>\n",
              "      <td>-0.369182</td>\n",
              "      <td>-0.239379</td>\n",
              "      <td>-0.738031</td>\n",
              "      <td>-0.024326</td>\n",
              "      <td>1.099660</td>\n",
              "      <td>0.279925</td>\n",
              "      <td>-0.098150</td>\n",
              "      <td>0.655264</td>\n",
              "    </tr>\n",
              "    <tr>\n",
              "      <th>2</th>\n",
              "      <td>0.093953</td>\n",
              "      <td>-0.130107</td>\n",
              "      <td>0.929505</td>\n",
              "      <td>0.582225</td>\n",
              "      <td>-2.739677</td>\n",
              "      <td>0.943046</td>\n",
              "      <td>-2.094603</td>\n",
              "      <td>-0.569312</td>\n",
              "      <td>0.269904</td>\n",
              "      <td>0.123722</td>\n",
              "    </tr>\n",
              "    <tr>\n",
              "      <th>3</th>\n",
              "      <td>-1.542758</td>\n",
              "      <td>-0.789954</td>\n",
              "      <td>0.537035</td>\n",
              "      <td>-0.286835</td>\n",
              "      <td>-2.369623</td>\n",
              "      <td>-0.767332</td>\n",
              "      <td>1.634406</td>\n",
              "      <td>-0.260560</td>\n",
              "      <td>0.128957</td>\n",
              "      <td>0.571227</td>\n",
              "    </tr>\n",
              "    <tr>\n",
              "      <th>4</th>\n",
              "      <td>-0.101003</td>\n",
              "      <td>-2.231538</td>\n",
              "      <td>0.436187</td>\n",
              "      <td>1.571463</td>\n",
              "      <td>1.324868</td>\n",
              "      <td>-0.587375</td>\n",
              "      <td>1.077315</td>\n",
              "      <td>0.840648</td>\n",
              "      <td>0.261106</td>\n",
              "      <td>0.811090</td>\n",
              "    </tr>\n",
              "  </tbody>\n",
              "</table>\n",
              "</div>\n",
              "      <button class=\"colab-df-convert\" onclick=\"convertToInteractive('df-95fe4abe-e1a7-406d-ab9e-7f2130cb9bfa')\"\n",
              "              title=\"Convert this dataframe to an interactive table.\"\n",
              "              style=\"display:none;\">\n",
              "        \n",
              "  <svg xmlns=\"http://www.w3.org/2000/svg\" height=\"24px\"viewBox=\"0 0 24 24\"\n",
              "       width=\"24px\">\n",
              "    <path d=\"M0 0h24v24H0V0z\" fill=\"none\"/>\n",
              "    <path d=\"M18.56 5.44l.94 2.06.94-2.06 2.06-.94-2.06-.94-.94-2.06-.94 2.06-2.06.94zm-11 1L8.5 8.5l.94-2.06 2.06-.94-2.06-.94L8.5 2.5l-.94 2.06-2.06.94zm10 10l.94 2.06.94-2.06 2.06-.94-2.06-.94-.94-2.06-.94 2.06-2.06.94z\"/><path d=\"M17.41 7.96l-1.37-1.37c-.4-.4-.92-.59-1.43-.59-.52 0-1.04.2-1.43.59L10.3 9.45l-7.72 7.72c-.78.78-.78 2.05 0 2.83L4 21.41c.39.39.9.59 1.41.59.51 0 1.02-.2 1.41-.59l7.78-7.78 2.81-2.81c.8-.78.8-2.07 0-2.86zM5.41 20L4 18.59l7.72-7.72 1.47 1.35L5.41 20z\"/>\n",
              "  </svg>\n",
              "      </button>\n",
              "      \n",
              "  <style>\n",
              "    .colab-df-container {\n",
              "      display:flex;\n",
              "      flex-wrap:wrap;\n",
              "      gap: 12px;\n",
              "    }\n",
              "\n",
              "    .colab-df-convert {\n",
              "      background-color: #E8F0FE;\n",
              "      border: none;\n",
              "      border-radius: 50%;\n",
              "      cursor: pointer;\n",
              "      display: none;\n",
              "      fill: #1967D2;\n",
              "      height: 32px;\n",
              "      padding: 0 0 0 0;\n",
              "      width: 32px;\n",
              "    }\n",
              "\n",
              "    .colab-df-convert:hover {\n",
              "      background-color: #E2EBFA;\n",
              "      box-shadow: 0px 1px 2px rgba(60, 64, 67, 0.3), 0px 1px 3px 1px rgba(60, 64, 67, 0.15);\n",
              "      fill: #174EA6;\n",
              "    }\n",
              "\n",
              "    [theme=dark] .colab-df-convert {\n",
              "      background-color: #3B4455;\n",
              "      fill: #D2E3FC;\n",
              "    }\n",
              "\n",
              "    [theme=dark] .colab-df-convert:hover {\n",
              "      background-color: #434B5C;\n",
              "      box-shadow: 0px 1px 3px 1px rgba(0, 0, 0, 0.15);\n",
              "      filter: drop-shadow(0px 1px 2px rgba(0, 0, 0, 0.3));\n",
              "      fill: #FFFFFF;\n",
              "    }\n",
              "  </style>\n",
              "\n",
              "      <script>\n",
              "        const buttonEl =\n",
              "          document.querySelector('#df-95fe4abe-e1a7-406d-ab9e-7f2130cb9bfa button.colab-df-convert');\n",
              "        buttonEl.style.display =\n",
              "          google.colab.kernel.accessAllowed ? 'block' : 'none';\n",
              "\n",
              "        async function convertToInteractive(key) {\n",
              "          const element = document.querySelector('#df-95fe4abe-e1a7-406d-ab9e-7f2130cb9bfa');\n",
              "          const dataTable =\n",
              "            await google.colab.kernel.invokeFunction('convertToInteractive',\n",
              "                                                     [key], {});\n",
              "          if (!dataTable) return;\n",
              "\n",
              "          const docLinkHtml = 'Like what you see? Visit the ' +\n",
              "            '<a target=\"_blank\" href=https://colab.research.google.com/notebooks/data_table.ipynb>data table notebook</a>'\n",
              "            + ' to learn more about interactive tables.';\n",
              "          element.innerHTML = '';\n",
              "          dataTable['output_type'] = 'display_data';\n",
              "          await google.colab.output.renderOutput(dataTable, element);\n",
              "          const docLink = document.createElement('div');\n",
              "          docLink.innerHTML = docLinkHtml;\n",
              "          element.appendChild(docLink);\n",
              "        }\n",
              "      </script>\n",
              "    </div>\n",
              "  </div>\n",
              "  "
            ]
          },
          "metadata": {},
          "execution_count": 84
        }
      ]
    },
    {
      "cell_type": "code",
      "source": [
        "# Step-2 Normalise \n",
        "def normalise(X):\n",
        "    u = X.mean(axis=0)\n",
        "    std = X.std(axis=0)\n",
        "\n",
        "    return (X-u)/std"
      ],
      "metadata": {
        "id": "S7mCaTaj1fdj"
      },
      "execution_count": null,
      "outputs": []
    },
    {
      "cell_type": "code",
      "source": [
        "X = normalise(X)\n",
        "pd.DataFrame(X).head()"
      ],
      "metadata": {
        "colab": {
          "base_uri": "https://localhost:8080/",
          "height": 206
        },
        "id": "dw8-Mgl71y6R",
        "outputId": "615a1222-34f6-4e87-ef3c-f7ab54ce796c"
      },
      "execution_count": null,
      "outputs": [
        {
          "output_type": "execute_result",
          "data": {
            "text/plain": [
              "          0         1         2         3         4         5         6  \\\n",
              "0  1.764831  1.579606  0.093808  0.341546  0.103202  0.745205  0.421736   \n",
              "1 -1.612963  0.709920 -0.277540 -0.301827 -0.693297 -0.045695  1.116862   \n",
              "2  0.125936 -0.058708  1.030243  0.559735 -2.658385  1.007996 -2.100631   \n",
              "3 -1.537551 -0.717175  0.635024 -0.351591 -2.295090 -0.855000  1.655498   \n",
              "4 -0.072209 -2.155744  0.533470  1.597083  1.331926 -0.658985  1.094355   \n",
              "\n",
              "          7         8         9  \n",
              "0 -0.461091 -0.710885 -0.761760  \n",
              "1  0.265971 -0.166048  0.714702  \n",
              "2 -0.566372  0.213499  0.175267  \n",
              "3 -0.263762  0.068151  0.629417  \n",
              "4  0.815541  0.204426  0.872842  "
            ],
            "text/html": [
              "\n",
              "  <div id=\"df-6bb52ad2-9210-4e3c-9de5-14c15938a895\">\n",
              "    <div class=\"colab-df-container\">\n",
              "      <div>\n",
              "<style scoped>\n",
              "    .dataframe tbody tr th:only-of-type {\n",
              "        vertical-align: middle;\n",
              "    }\n",
              "\n",
              "    .dataframe tbody tr th {\n",
              "        vertical-align: top;\n",
              "    }\n",
              "\n",
              "    .dataframe thead th {\n",
              "        text-align: right;\n",
              "    }\n",
              "</style>\n",
              "<table border=\"1\" class=\"dataframe\">\n",
              "  <thead>\n",
              "    <tr style=\"text-align: right;\">\n",
              "      <th></th>\n",
              "      <th>0</th>\n",
              "      <th>1</th>\n",
              "      <th>2</th>\n",
              "      <th>3</th>\n",
              "      <th>4</th>\n",
              "      <th>5</th>\n",
              "      <th>6</th>\n",
              "      <th>7</th>\n",
              "      <th>8</th>\n",
              "      <th>9</th>\n",
              "    </tr>\n",
              "  </thead>\n",
              "  <tbody>\n",
              "    <tr>\n",
              "      <th>0</th>\n",
              "      <td>1.764831</td>\n",
              "      <td>1.579606</td>\n",
              "      <td>0.093808</td>\n",
              "      <td>0.341546</td>\n",
              "      <td>0.103202</td>\n",
              "      <td>0.745205</td>\n",
              "      <td>0.421736</td>\n",
              "      <td>-0.461091</td>\n",
              "      <td>-0.710885</td>\n",
              "      <td>-0.761760</td>\n",
              "    </tr>\n",
              "    <tr>\n",
              "      <th>1</th>\n",
              "      <td>-1.612963</td>\n",
              "      <td>0.709920</td>\n",
              "      <td>-0.277540</td>\n",
              "      <td>-0.301827</td>\n",
              "      <td>-0.693297</td>\n",
              "      <td>-0.045695</td>\n",
              "      <td>1.116862</td>\n",
              "      <td>0.265971</td>\n",
              "      <td>-0.166048</td>\n",
              "      <td>0.714702</td>\n",
              "    </tr>\n",
              "    <tr>\n",
              "      <th>2</th>\n",
              "      <td>0.125936</td>\n",
              "      <td>-0.058708</td>\n",
              "      <td>1.030243</td>\n",
              "      <td>0.559735</td>\n",
              "      <td>-2.658385</td>\n",
              "      <td>1.007996</td>\n",
              "      <td>-2.100631</td>\n",
              "      <td>-0.566372</td>\n",
              "      <td>0.213499</td>\n",
              "      <td>0.175267</td>\n",
              "    </tr>\n",
              "    <tr>\n",
              "      <th>3</th>\n",
              "      <td>-1.537551</td>\n",
              "      <td>-0.717175</td>\n",
              "      <td>0.635024</td>\n",
              "      <td>-0.351591</td>\n",
              "      <td>-2.295090</td>\n",
              "      <td>-0.855000</td>\n",
              "      <td>1.655498</td>\n",
              "      <td>-0.263762</td>\n",
              "      <td>0.068151</td>\n",
              "      <td>0.629417</td>\n",
              "    </tr>\n",
              "    <tr>\n",
              "      <th>4</th>\n",
              "      <td>-0.072209</td>\n",
              "      <td>-2.155744</td>\n",
              "      <td>0.533470</td>\n",
              "      <td>1.597083</td>\n",
              "      <td>1.331926</td>\n",
              "      <td>-0.658985</td>\n",
              "      <td>1.094355</td>\n",
              "      <td>0.815541</td>\n",
              "      <td>0.204426</td>\n",
              "      <td>0.872842</td>\n",
              "    </tr>\n",
              "  </tbody>\n",
              "</table>\n",
              "</div>\n",
              "      <button class=\"colab-df-convert\" onclick=\"convertToInteractive('df-6bb52ad2-9210-4e3c-9de5-14c15938a895')\"\n",
              "              title=\"Convert this dataframe to an interactive table.\"\n",
              "              style=\"display:none;\">\n",
              "        \n",
              "  <svg xmlns=\"http://www.w3.org/2000/svg\" height=\"24px\"viewBox=\"0 0 24 24\"\n",
              "       width=\"24px\">\n",
              "    <path d=\"M0 0h24v24H0V0z\" fill=\"none\"/>\n",
              "    <path d=\"M18.56 5.44l.94 2.06.94-2.06 2.06-.94-2.06-.94-.94-2.06-.94 2.06-2.06.94zm-11 1L8.5 8.5l.94-2.06 2.06-.94-2.06-.94L8.5 2.5l-.94 2.06-2.06.94zm10 10l.94 2.06.94-2.06 2.06-.94-2.06-.94-.94-2.06-.94 2.06-2.06.94z\"/><path d=\"M17.41 7.96l-1.37-1.37c-.4-.4-.92-.59-1.43-.59-.52 0-1.04.2-1.43.59L10.3 9.45l-7.72 7.72c-.78.78-.78 2.05 0 2.83L4 21.41c.39.39.9.59 1.41.59.51 0 1.02-.2 1.41-.59l7.78-7.78 2.81-2.81c.8-.78.8-2.07 0-2.86zM5.41 20L4 18.59l7.72-7.72 1.47 1.35L5.41 20z\"/>\n",
              "  </svg>\n",
              "      </button>\n",
              "      \n",
              "  <style>\n",
              "    .colab-df-container {\n",
              "      display:flex;\n",
              "      flex-wrap:wrap;\n",
              "      gap: 12px;\n",
              "    }\n",
              "\n",
              "    .colab-df-convert {\n",
              "      background-color: #E8F0FE;\n",
              "      border: none;\n",
              "      border-radius: 50%;\n",
              "      cursor: pointer;\n",
              "      display: none;\n",
              "      fill: #1967D2;\n",
              "      height: 32px;\n",
              "      padding: 0 0 0 0;\n",
              "      width: 32px;\n",
              "    }\n",
              "\n",
              "    .colab-df-convert:hover {\n",
              "      background-color: #E2EBFA;\n",
              "      box-shadow: 0px 1px 2px rgba(60, 64, 67, 0.3), 0px 1px 3px 1px rgba(60, 64, 67, 0.15);\n",
              "      fill: #174EA6;\n",
              "    }\n",
              "\n",
              "    [theme=dark] .colab-df-convert {\n",
              "      background-color: #3B4455;\n",
              "      fill: #D2E3FC;\n",
              "    }\n",
              "\n",
              "    [theme=dark] .colab-df-convert:hover {\n",
              "      background-color: #434B5C;\n",
              "      box-shadow: 0px 1px 3px 1px rgba(0, 0, 0, 0.15);\n",
              "      filter: drop-shadow(0px 1px 2px rgba(0, 0, 0, 0.3));\n",
              "      fill: #FFFFFF;\n",
              "    }\n",
              "  </style>\n",
              "\n",
              "      <script>\n",
              "        const buttonEl =\n",
              "          document.querySelector('#df-6bb52ad2-9210-4e3c-9de5-14c15938a895 button.colab-df-convert');\n",
              "        buttonEl.style.display =\n",
              "          google.colab.kernel.accessAllowed ? 'block' : 'none';\n",
              "\n",
              "        async function convertToInteractive(key) {\n",
              "          const element = document.querySelector('#df-6bb52ad2-9210-4e3c-9de5-14c15938a895');\n",
              "          const dataTable =\n",
              "            await google.colab.kernel.invokeFunction('convertToInteractive',\n",
              "                                                     [key], {});\n",
              "          if (!dataTable) return;\n",
              "\n",
              "          const docLinkHtml = 'Like what you see? Visit the ' +\n",
              "            '<a target=\"_blank\" href=https://colab.research.google.com/notebooks/data_table.ipynb>data table notebook</a>'\n",
              "            + ' to learn more about interactive tables.';\n",
              "          element.innerHTML = '';\n",
              "          dataTable['output_type'] = 'display_data';\n",
              "          await google.colab.output.renderOutput(dataTable, element);\n",
              "          const docLink = document.createElement('div');\n",
              "          docLink.innerHTML = docLinkHtml;\n",
              "          element.appendChild(docLink);\n",
              "        }\n",
              "      </script>\n",
              "    </div>\n",
              "  </div>\n",
              "  "
            ]
          },
          "metadata": {},
          "execution_count": 86
        }
      ]
    },
    {
      "cell_type": "code",
      "source": [
        "X.mean(axis=0)"
      ],
      "metadata": {
        "colab": {
          "base_uri": "https://localhost:8080/"
        },
        "id": "fyOXmT9B2V-d",
        "outputId": "575d67be-c8b9-4505-9f93-df63214b7a25"
      },
      "execution_count": null,
      "outputs": [
        {
          "output_type": "execute_result",
          "data": {
            "text/plain": [
              "array([-2.75335310e-17,  5.82867088e-17, -1.06581410e-17, -1.39888101e-17,\n",
              "        2.49800181e-18,  4.28546088e-17,  1.43635104e-17,  1.46549439e-17,\n",
              "        7.14983628e-17, -1.07691633e-16])"
            ]
          },
          "metadata": {},
          "execution_count": 87
        }
      ]
    },
    {
      "cell_type": "code",
      "source": [
        "X.std(axis=0)"
      ],
      "metadata": {
        "colab": {
          "base_uri": "https://localhost:8080/"
        },
        "id": "fidfRKUA2ZDj",
        "outputId": "7f9b63c9-f7e2-44ca-e8a9-e0d1717ac7c5"
      },
      "execution_count": null,
      "outputs": [
        {
          "output_type": "execute_result",
          "data": {
            "text/plain": [
              "array([1., 1., 1., 1., 1., 1., 1., 1., 1., 1.])"
            ]
          },
          "metadata": {},
          "execution_count": 88
        }
      ]
    },
    {
      "cell_type": "code",
      "source": [
        "# Step-3 Visualise y as function of each feature \n",
        "\n",
        "for f in range(0,10):\n",
        "    plt.subplot(4,3,f+1)\n",
        "    plt.scatter(X[:,f],y)\n",
        "plt.show()\n"
      ],
      "metadata": {
        "colab": {
          "base_uri": "https://localhost:8080/",
          "height": 347
        },
        "id": "DzaOQ1472cUc",
        "outputId": "ed8f285c-5c38-45c0-cbba-cf19df8b1c57"
      },
      "execution_count": null,
      "outputs": [
        {
          "output_type": "display_data",
          "data": {
            "text/plain": [
              "<Figure size 576x396 with 10 Axes>"
            ],
            "image/png": "[encoded data removed]"
          },
          "metadata": {}
        }
      ]
    },
    {
      "cell_type": "code",
      "source": [
        "# Step - 4 Train Test Split \n",
        "XT, Xt,yT,yt = train_test_split(X,y,test_size=0.3,shuffle=False,random_state=0)\n"
      ],
      "metadata": {
        "id": "SKEYAPiD3G7R"
      },
      "execution_count": null,
      "outputs": []
    },
    {
      "cell_type": "code",
      "source": [
        "print(XT.shape,yT.shape)\n",
        "print(Xt.shape,yt.shape)\n"
      ],
      "metadata": {
        "colab": {
          "base_uri": "https://localhost:8080/"
        },
        "id": "xbCavtPD4SLz",
        "outputId": "72b2fd83-af7a-4180-8ab2-f30f2b6931b9"
      },
      "execution_count": null,
      "outputs": [
        {
          "output_type": "stream",
          "name": "stdout",
          "text": [
            "(350, 10) (350,)\n",
            "(150, 10) (150,)\n"
          ]
        }
      ]
    },
    {
      "cell_type": "code",
      "source": [
        "# Step - 5 Modelling / Linear Regression with Muliple Features\n",
        "def preprocess(X):\n",
        "    # add a column of 1s in X as 0th column\n",
        "    if X.shape[1] == n_features:\n",
        "        m = X.shape[0]\n",
        "        ones = np.ones((m,1))\n",
        "        X = np.hstack((ones,X))\n",
        "    return X"
      ],
      "metadata": {
        "id": "H93lghlH4UkC"
      },
      "execution_count": null,
      "outputs": []
    },
    {
      "cell_type": "code",
      "source": [
        "def hypothesis(X,theta):\n",
        "    return np.dot(X,theta)\n",
        "\n",
        "def loss(X,y,theta):\n",
        "    yp = hypothesis(X,theta)\n",
        "    error = np.mean((y-yp)**2)\n",
        "    return error \n",
        "\n",
        "def gradient(X,y,theta):\n",
        "    yp = hypothesis(X,theta)\n",
        "    grad = np.dot(X.T,(yp-y))\n",
        "    m = X.shape[0]\n",
        "    return grad/m\n",
        "\n",
        "def train(X,y,learning_rate=0.1,max_iters=100):\n",
        "    n = X.shape[1] \n",
        "    theta = np.random.randn(n)\n",
        "    error_list = []\n",
        "\n",
        "    for i in range(max_iters):\n",
        "        e = loss(X,y,theta)\n",
        "        error_list.append(e)\n",
        "        grad = gradient(X,y,theta)\n",
        "        theta = theta - learning_rate*grad \n",
        "\n",
        "    plt.plot(error_list)\n",
        "    return theta "
      ],
      "metadata": {
        "id": "TrcdIAHv44Ga"
      },
      "execution_count": null,
      "outputs": []
    },
    {
      "cell_type": "code",
      "source": [
        "XT = preprocess(XT)\n",
        "Xt = preprocess(Xt)\n",
        "print(XT.shape,Xt.shape)\n",
        "\n",
        "theta = train(XT,yT)\n",
        "print(theta)"
      ],
      "metadata": {
        "colab": {
          "base_uri": "https://localhost:8080/",
          "height": 418
        },
        "id": "kpBo_X_1CAAf",
        "outputId": "6a98957a-364a-4b99-8283-7cc21190245a"
      },
      "execution_count": null,
      "outputs": [
        {
          "output_type": "stream",
          "name": "stdout",
          "text": [
            "(350, 11) (150, 11)\n",
            "[-3.83056252e+00 -2.13412203e-02  6.04371337e+01  1.06954409e+01\n",
            "  6.35754819e+01 -3.58211815e-02  7.46110519e-02  4.09261905e+01\n",
            "  4.13747712e-02  6.10087315e-02  2.53391632e+01]\n"
          ]
        },
        {
          "output_type": "display_data",
          "data": {
            "text/plain": [
              "<Figure size 576x396 with 1 Axes>"
            ],
            "image/png": "[encoded data removed]"
          },
          "metadata": {}
        }
      ]
    },
    {
      "cell_type": "code",
      "source": [
        "print(theta.shape)"
      ],
      "metadata": {
        "colab": {
          "base_uri": "https://localhost:8080/"
        },
        "id": "rT8rhIy0UbH3",
        "outputId": "2bf3a07c-b80a-482b-d0a9-fee5d3e7b99c"
      },
      "execution_count": null,
      "outputs": [
        {
          "output_type": "stream",
          "name": "stdout",
          "text": [
            "(11,)\n"
          ]
        }
      ]
    },
    {
      "cell_type": "code",
      "source": [
        "gradient(XT,yT,theta).shape"
      ],
      "metadata": {
        "colab": {
          "base_uri": "https://localhost:8080/"
        },
        "id": "6J2AjtjKVX7A",
        "outputId": "b7b2b699-bc48-44ce-f220-2328abdbafd7"
      },
      "execution_count": null,
      "outputs": [
        {
          "output_type": "execute_result",
          "data": {
            "text/plain": [
              "(11,)"
            ]
          },
          "metadata": {},
          "execution_count": 96
        }
      ]
    },
    {
      "cell_type": "code",
      "source": [
        "def r2Score(y,yp):\n",
        "    ymean = y.mean()\n",
        "    num = np.sum((y-yp)**2)\n",
        "    denom = np.sum((y - ymean)**2)\n",
        "    return (1 - num/denom)*100 \n"
      ],
      "metadata": {
        "id": "2qYnz-DYYtfJ"
      },
      "execution_count": null,
      "outputs": []
    },
    {
      "cell_type": "code",
      "source": [
        "yp = hypothesis(Xt,theta)"
      ],
      "metadata": {
        "id": "JHK58Tyha2bY"
      },
      "execution_count": null,
      "outputs": []
    },
    {
      "cell_type": "code",
      "source": [
        "r2Score(yt,yp)"
      ],
      "metadata": {
        "colab": {
          "base_uri": "https://localhost:8080/"
        },
        "id": "bdHi0-bia6nq",
        "outputId": "418ccd13-6042-4c94-ce87-01b71baee8bf"
      },
      "execution_count": null,
      "outputs": [
        {
          "output_type": "execute_result",
          "data": {
            "text/plain": [
              "99.95694784405946"
            ]
          },
          "metadata": {},
          "execution_count": 99
        }
      ]
    },
    {
      "cell_type": "code",
      "source": [
        "## Linear Regression with Sk-Learn"
      ],
      "metadata": {
        "id": "O9C5Iztba9CH"
      },
      "execution_count": null,
      "outputs": []
    },
    {
      "cell_type": "code",
      "source": [
        "from sklearn.linear_model import LinearRegression\n"
      ],
      "metadata": {
        "id": "jJ2Tq_s5c0Ng"
      },
      "execution_count": null,
      "outputs": []
    },
    {
      "cell_type": "code",
      "source": [
        "model = LinearRegression()"
      ],
      "metadata": {
        "id": "iefLozgfdOd1"
      },
      "execution_count": null,
      "outputs": []
    },
    {
      "cell_type": "code",
      "source": [
        "model.fit(XT,yT)"
      ],
      "metadata": {
        "colab": {
          "base_uri": "https://localhost:8080/"
        },
        "id": "nPwDaL6YdQfJ",
        "outputId": "81f2d7fc-016b-43b0-ef8d-eb22e33dcb3f"
      },
      "execution_count": null,
      "outputs": [
        {
          "output_type": "execute_result",
          "data": {
            "text/plain": [
              "LinearRegression()"
            ]
          },
          "metadata": {},
          "execution_count": 103
        }
      ]
    },
    {
      "cell_type": "code",
      "source": [
        "yp = model.predict(Xt)"
      ],
      "metadata": {
        "id": "zSA9nUiodWws"
      },
      "execution_count": null,
      "outputs": []
    },
    {
      "cell_type": "code",
      "source": [
        "yp.shape"
      ],
      "metadata": {
        "colab": {
          "base_uri": "https://localhost:8080/"
        },
        "id": "XHHIm8C5dbm6",
        "outputId": "eca1a4e4-c304-4b59-9a83-88ef9fa27283"
      },
      "execution_count": null,
      "outputs": [
        {
          "output_type": "execute_result",
          "data": {
            "text/plain": [
              "(150,)"
            ]
          },
          "metadata": {},
          "execution_count": 106
        }
      ]
    },
    {
      "cell_type": "code",
      "source": [
        "model.score(Xt,yt)"
      ],
      "metadata": {
        "colab": {
          "base_uri": "https://localhost:8080/"
        },
        "id": "BYllC5eqdgUF",
        "outputId": "edd82b74-4680-4b8d-e130-920b0e5b3d5c"
      },
      "execution_count": null,
      "outputs": [
        {
          "output_type": "execute_result",
          "data": {
            "text/plain": [
              "0.9995692220028003"
            ]
          },
          "metadata": {},
          "execution_count": 107
        }
      ]
    },
    {
      "cell_type": "code",
      "source": [
        "model.intercept_"
      ],
      "metadata": {
        "colab": {
          "base_uri": "https://localhost:8080/"
        },
        "id": "nnwinKa-dpA5",
        "outputId": "7009ca06-acaf-4f12-c8e8-1cf309c6075e"
      },
      "execution_count": null,
      "outputs": [
        {
          "output_type": "execute_result",
          "data": {
            "text/plain": [
              "-3.830965832241096"
            ]
          },
          "metadata": {},
          "execution_count": 108
        }
      ]
    },
    {
      "cell_type": "code",
      "source": [
        "model.coef_"
      ],
      "metadata": {
        "colab": {
          "base_uri": "https://localhost:8080/"
        },
        "id": "Pqvc48bVd3up",
        "outputId": "1633bfeb-8454-4d9a-baee-bbcb2a563aee"
      },
      "execution_count": null,
      "outputs": [
        {
          "output_type": "execute_result",
          "data": {
            "text/plain": [
              "array([ 0.00000000e+00, -2.06171871e-02,  6.04374523e+01,  1.06974366e+01,\n",
              "        6.35793325e+01, -3.74345796e-02,  7.24956651e-02,  4.09293832e+01,\n",
              "        4.23429505e-02,  5.84283306e-02,  2.53368186e+01])"
            ]
          },
          "metadata": {},
          "execution_count": 111
        }
      ]
    },
    {
      "cell_type": "code",
      "source": [],
      "metadata": {
        "id": "_0QLtYDJd6Jw"
      },
      "execution_count": null,
      "outputs": []
    }
  ]
}