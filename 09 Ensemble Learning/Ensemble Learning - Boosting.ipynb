{
 "cells": [
  {
   "cell_type": "markdown",
   "id": "806fca1b",
   "metadata": {},
   "source": [
    "# Ensemble : Boosting Introduction\n",
    "\n",
    "<br>\n",
    "\n",
    "**Idea** : Combine multiple weak learners to form a strong learner to increase the model performance.\n",
    "\n",
    "\n",
    "<img src=\"https://media.giphy.com/media/LPYocbQ5kIdXwPLpVv/giphy.gif\" width=300 align=right> \n",
    "\n",
    "**Bagging** : Models _(high var, low bias)_ + randomization + aggregation\n",
    "\n",
    "**Boosting** : Models _(low var, high bias)_ + additively combine\n",
    "\n",
    "<br>\n",
    "\n",
    "**Note : Bagging is Parallel. Boosting is Sequential.**\n",
    "\n",
    "<br>\n",
    "\n",
    "Most Popular Boosting algorithms are: \n",
    "- Gradient Boosting\n",
    "- Adaptive Boosting"
   ]
  },
  {
   "cell_type": "code",
   "execution_count": null,
   "id": "5237e826",
   "metadata": {},
   "outputs": [],
   "source": []
  },
  {
   "cell_type": "markdown",
   "id": "47aa8d07",
   "metadata": {},
   "source": [
    "# Boosting Intuition\n",
    "\n",
    "**Idea :** Boosting reduces high bias, while keeping the variance same."
   ]
  },
  {
   "cell_type": "markdown",
   "id": "cf06836d",
   "metadata": {},
   "source": [
    "| Hours Studied   | Bunked Lectures   | Assignment Submitted   | Marks   |\n",
    "|:---------------:|:-----------------:|:----------------------:|:-------:|\n",
    "| 7               | 2                 | 9                      | 93      |\n",
    "| 2               | 5                 | 4                      | 65      |\n",
    "| 5               | 3                 | 7                      | 77      |\n",
    "| 6               | 1                 | 8                      | 85      |"
   ]
  },
  {
   "cell_type": "code",
   "execution_count": null,
   "id": "66b846cb",
   "metadata": {},
   "outputs": [],
   "source": []
  },
  {
   "cell_type": "code",
   "execution_count": null,
   "id": "43548fae",
   "metadata": {},
   "outputs": [],
   "source": []
  },
  {
   "cell_type": "markdown",
   "id": "951702d3",
   "metadata": {},
   "source": [
    "# Boosting Example Walkthrough"
   ]
  },
  {
   "cell_type": "markdown",
   "id": "b98f0b4d",
   "metadata": {},
   "source": [
    "| Hours Studied   | Bunked Lectures   | Assignment Submitted   | Marks   |\n",
    "|:---------------:|:-----------------:|:----------------------:|:-------:|\n",
    "| 7               | 2                 | 9                      | 93      |\n",
    "| 2               | 5                 | 4                      | 65      |\n",
    "| 5               | 3                 | 7                      | 77      |\n",
    "| 6               | 1                 | 8                      | 85      |"
   ]
  },
  {
   "cell_type": "code",
   "execution_count": null,
   "id": "17bd14be",
   "metadata": {},
   "outputs": [],
   "source": []
  },
  {
   "cell_type": "code",
   "execution_count": null,
   "id": "2e7064e8",
   "metadata": {},
   "outputs": [],
   "source": []
  },
  {
   "cell_type": "markdown",
   "id": "bfa550da",
   "metadata": {},
   "source": [
    "# Concept of Pseudo-residuals"
   ]
  },
  {
   "cell_type": "markdown",
   "id": "4a875446",
   "metadata": {},
   "source": [
    "<img src=\"https://media.giphy.com/media/3oKIPlLZEbEbacWqOc/giphy.gif\" width=300>"
   ]
  },
  {
   "cell_type": "code",
   "execution_count": null,
   "id": "23cce5ca",
   "metadata": {},
   "outputs": [],
   "source": []
  },
  {
   "cell_type": "code",
   "execution_count": null,
   "id": "a9a0e998",
   "metadata": {},
   "outputs": [],
   "source": []
  },
  {
   "cell_type": "code",
   "execution_count": null,
   "id": "f6ab1435",
   "metadata": {},
   "outputs": [],
   "source": []
  },
  {
   "cell_type": "markdown",
   "id": "55a0df68",
   "metadata": {},
   "source": [
    "# Gradient Boosting Algorithm"
   ]
  },
  {
   "cell_type": "code",
   "execution_count": null,
   "id": "e48e0ef9",
   "metadata": {},
   "outputs": [],
   "source": []
  },
  {
   "cell_type": "markdown",
   "id": "e23439ec",
   "metadata": {},
   "source": [
    "# Bias Variance Tradeoff\n",
    "- regularization"
   ]
  },
  {
   "cell_type": "markdown",
   "id": "9b69eb01",
   "metadata": {},
   "source": [
    "<img src=\"https://media.giphy.com/media/l0G17EPaALmQmZjjy/giphy.gif\" width=300 align=left>"
   ]
  },
  {
   "cell_type": "code",
   "execution_count": null,
   "id": "e194f86f",
   "metadata": {},
   "outputs": [],
   "source": []
  },
  {
   "cell_type": "code",
   "execution_count": null,
   "id": "064d72b4",
   "metadata": {},
   "outputs": [],
   "source": []
  },
  {
   "cell_type": "markdown",
   "id": "f3a45ec2",
   "metadata": {},
   "source": [
    "# Gradient Boosting Code"
   ]
  },
  {
   "cell_type": "code",
   "execution_count": 121,
   "id": "338bc7e8",
   "metadata": {},
   "outputs": [],
   "source": [
    "from sklearn.datasets import make_regression"
   ]
  },
  {
   "cell_type": "code",
   "execution_count": 124,
   "id": "3f7dfa31",
   "metadata": {},
   "outputs": [],
   "source": [
    "X, y = make_regression(n_samples=1000, n_features=10, n_informative=6, noise=2.0)"
   ]
  },
  {
   "cell_type": "code",
   "execution_count": 125,
   "id": "cf825f6b",
   "metadata": {},
   "outputs": [
    {
     "data": {
      "text/plain": [
       "(1000, 10)"
      ]
     },
     "execution_count": 125,
     "metadata": {},
     "output_type": "execute_result"
    }
   ],
   "source": [
    "X.shape"
   ]
  },
  {
   "cell_type": "code",
   "execution_count": 126,
   "id": "b332eb48",
   "metadata": {},
   "outputs": [
    {
     "data": {
      "text/plain": [
       "(1000,)"
      ]
     },
     "execution_count": 126,
     "metadata": {},
     "output_type": "execute_result"
    }
   ],
   "source": [
    "y.shape"
   ]
  },
  {
   "cell_type": "code",
   "execution_count": 127,
   "id": "41b3bca2",
   "metadata": {},
   "outputs": [],
   "source": [
    "from sklearn.model_selection import train_test_split"
   ]
  },
  {
   "cell_type": "code",
   "execution_count": 128,
   "id": "ccd80e1e",
   "metadata": {},
   "outputs": [],
   "source": [
    "X_train, X_test, y_train, y_test = train_test_split(X, y, test_size=0.2, random_state=42)"
   ]
  },
  {
   "cell_type": "code",
   "execution_count": 129,
   "id": "44c37c8d",
   "metadata": {},
   "outputs": [],
   "source": [
    "from sklearn.ensemble import GradientBoostingRegressor"
   ]
  },
  {
   "cell_type": "code",
   "execution_count": 136,
   "id": "dfa0854e",
   "metadata": {},
   "outputs": [],
   "source": [
    "M = [10, 50, 100, 200, 500, 1000]"
   ]
  },
  {
   "cell_type": "code",
   "execution_count": 137,
   "id": "5692726d",
   "metadata": {},
   "outputs": [],
   "source": [
    "train_scores = []\n",
    "test_scores = []"
   ]
  },
  {
   "cell_type": "code",
   "execution_count": 138,
   "id": "6977fb0d",
   "metadata": {},
   "outputs": [],
   "source": [
    "for m in M:\n",
    "    model = GradientBoostingRegressor(n_estimators=m)\n",
    "    model.fit(X_train, y_train)\n",
    "    tr_sc = model.score(X_train, y_train)\n",
    "    te_sc = model.score(X_test, y_test)\n",
    "    \n",
    "    train_scores.append(tr_sc)\n",
    "    test_scores.append(te_sc)"
   ]
  },
  {
   "cell_type": "code",
   "execution_count": 139,
   "id": "dbe6724f",
   "metadata": {},
   "outputs": [
    {
     "data": {
      "text/plain": [
       "[0.5693298400680644,\n",
       " 0.9517023668196679,\n",
       " 0.9896131212623428,\n",
       " 0.9957854115756537,\n",
       " 0.9991338471481596,\n",
       " 0.999898854280583]"
      ]
     },
     "execution_count": 139,
     "metadata": {},
     "output_type": "execute_result"
    }
   ],
   "source": [
    "train_scores"
   ]
  },
  {
   "cell_type": "code",
   "execution_count": 140,
   "id": "c50a77c6",
   "metadata": {},
   "outputs": [
    {
     "data": {
      "text/plain": [
       "[0.5165900903969471,\n",
       " 0.8747191986794813,\n",
       " 0.9369690789752081,\n",
       " 0.953364577019059,\n",
       " 0.9584623589008775,\n",
       " 0.960608551723134]"
      ]
     },
     "execution_count": 140,
     "metadata": {},
     "output_type": "execute_result"
    }
   ],
   "source": [
    "test_scores"
   ]
  },
  {
   "cell_type": "code",
   "execution_count": null,
   "id": "7547f6f8",
   "metadata": {},
   "outputs": [],
   "source": []
  },
  {
   "cell_type": "code",
   "execution_count": null,
   "id": "6e5d8b22",
   "metadata": {},
   "outputs": [],
   "source": []
  },
  {
   "cell_type": "code",
   "execution_count": null,
   "id": "921753f9",
   "metadata": {},
   "outputs": [],
   "source": []
  },
  {
   "cell_type": "markdown",
   "id": "60c16771",
   "metadata": {},
   "source": [
    "# XGBoost"
   ]
  },
  {
   "cell_type": "code",
   "execution_count": null,
   "id": "20754f16",
   "metadata": {},
   "outputs": [],
   "source": []
  },
  {
   "cell_type": "code",
   "execution_count": null,
   "id": "a0696e8b",
   "metadata": {},
   "outputs": [],
   "source": []
  },
  {
   "cell_type": "code",
   "execution_count": null,
   "id": "9205e929",
   "metadata": {},
   "outputs": [],
   "source": []
  },
  {
   "cell_type": "code",
   "execution_count": null,
   "id": "26293441",
   "metadata": {},
   "outputs": [],
   "source": []
  },
  {
   "cell_type": "code",
   "execution_count": null,
   "id": "0014f3b1",
   "metadata": {},
   "outputs": [],
   "source": []
  },
  {
   "cell_type": "markdown",
   "id": "728a52b1",
   "metadata": {},
   "source": [
    "# Adaptive Boosting"
   ]
  },
  {
   "cell_type": "markdown",
   "id": "01e037c2",
   "metadata": {},
   "source": [
    "upenn"
   ]
  },
  {
   "cell_type": "code",
   "execution_count": null,
   "id": "ac6f12eb",
   "metadata": {},
   "outputs": [],
   "source": []
  },
  {
   "cell_type": "code",
   "execution_count": null,
   "id": "9d950a73",
   "metadata": {},
   "outputs": [],
   "source": []
  },
  {
   "cell_type": "markdown",
   "id": "84a319fb",
   "metadata": {},
   "source": [
    "# AdaBoost Code"
   ]
  },
  {
   "cell_type": "code",
   "execution_count": null,
   "id": "b0accbca",
   "metadata": {},
   "outputs": [],
   "source": []
  }
 ],
 "metadata": {
  "kernelspec": {
   "display_name": "Python 3",
   "language": "python",
   "name": "python3"
  },
  "language_info": {
   "codemirror_mode": {
    "name": "ipython",
    "version": 3
   },
   "file_extension": ".py",
   "mimetype": "text/x-python",
   "name": "python",
   "nbconvert_exporter": "python",
   "pygments_lexer": "ipython3",
   "version": "3.8.8"
  }
 },
 "nbformat": 4,
 "nbformat_minor": 5
}
